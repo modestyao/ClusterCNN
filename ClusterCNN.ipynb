{
 "cells": [
  {
   "cell_type": "code",
   "execution_count": 1,
   "metadata": {},
   "outputs": [],
   "source": [
    "import numpy as np\n",
    "import scipy.io as sio\n",
    "import os\n",
    "import time\n",
    "import spectral\n",
    "\n",
    "from sklearn import cluster, metrics\n",
    "from sklearn.preprocessing import scale\n",
    "from sklearn.decomposition import PCA\n",
    "from sklearn.model_selection import train_test_split\n",
    "\n",
    "from tensorflow import keras\n",
    "\n",
    "def createImageCubes(X, y, windowSize=5, removeZeroLabels = True):\n",
    "    margin = int((windowSize - 1) / 2)\n",
    "    zeroPaddedX = np.zeros((X.shape[0] + 2*margin, X.shape[1] + 2*margin, X.shape[2]))\n",
    "    zeroPaddedX[margin:X.shape[0] + margin, margin:X.shape[1] + margin, :] = X\n",
    "    patchesData = np.zeros((X.shape[0] * X.shape[1], windowSize, windowSize, X.shape[2]))\n",
    "    patchesLabels = np.zeros((X.shape[0] * X.shape[1]))\n",
    "    patchIndex = 0\n",
    "    for r in range(margin, zeroPaddedX.shape[0] - margin):\n",
    "        for c in range(margin, zeroPaddedX.shape[1] - margin):\n",
    "            patchesData[patchIndex, :, :, :] = zeroPaddedX[r - margin:r + margin + 1, c - margin:c + margin + 1]   \n",
    "            patchesLabels[patchIndex] = y[r-margin, c-margin]\n",
    "            patchIndex = patchIndex + 1\n",
    "    if removeZeroLabels:\n",
    "        patchesData = patchesData[patchesLabels>0,:,:,:]\n",
    "        patchesLabels = patchesLabels[patchesLabels>0] - 1\n",
    "    return patchesData, patchesLabels\n",
    "\n",
    "def count_FLOPs(model):\n",
    "    FLOPs = 0\n",
    "    for i in range(len(model.layers)):\n",
    "        layer = model.layers[i]\n",
    "        if layer.__class__.__name__ == 'Conv3D':\n",
    "            FLOPs += 2*np.prod(layer.kernel_size[:3])*np.prod(layer.output_shape[1:5])\n",
    "        if layer.__class__.__name__ == 'Conv2D':\n",
    "            FLOPs += 2*np.prod(layer.kernel_size[:2])*layer.input_shape[3]*np.prod(layer.output_shape[1:4])\n",
    "        if layer.__class__.__name__ in ('MaxPooling3D', 'AveragePooling3D'):\n",
    "            FLOPs += np.prod(layer.pool_size[:3])*np.prod(layer.output_shape[1:5])\n",
    "        if layer.__class__.__name__ in ('MaxPooling2D', 'AveragePooling2D'):\n",
    "            FLOPs += np.prod(layer.pool_size[:2])*np.prod(layer.output_shape[1:4])\n",
    "        if layer.__class__.__name__ == 'GlobalAveragePooling3D':\n",
    "            FLOPs += np.prod(layer.input_shape[1:5])\n",
    "        if layer.__class__.__name__ == 'GlobalAveragePooling2D':\n",
    "            FLOPs += np.prod(layer.input_shape[1:4])             \n",
    "        if layer.__class__.__name__ in ('Activation', 'Add', 'Multiply'):\n",
    "            FLOPs += np.prod(layer.output_shape[1:])            \n",
    "        if layer.__class__.__name__ == 'Dense':\n",
    "            FLOPs += 2*layer.input_shape[1]*layer.output_shape[1]          \n",
    "    return FLOPs"
   ]
  },
  {
   "cell_type": "code",
   "execution_count": 2,
   "metadata": {},
   "outputs": [],
   "source": [
    "test_ratio = 0.9\n",
    "patch = 25\n",
    "PCsNum = 15\n",
    "ClusterNum = 100  \n",
    "HSI = sio.loadmat(os.path.join(os.getcwd(),'data/Indian_pines_corrected.mat'))['indian_pines_corrected']\n",
    "GT = sio.loadmat(os.path.join(os.getcwd(),'data/Indian_pines_gt.mat'))['indian_pines_gt']\n",
    "HPCs = PCA(n_components=PCsNum, whiten=True).fit_transform(HSI.reshape(-1, HSI.shape[2])).reshape(HSI.shape[0], HSI.shape[1], PCsNum)"
   ]
  },
  {
   "cell_type": "code",
   "execution_count": 3,
   "metadata": {},
   "outputs": [
    {
     "name": "stdout",
     "output_type": "stream",
     "text": [
      "Shape of Clusters: (145, 145, 15) Clustering Time:  2.25 s.  # of Clusters: 100\n"
     ]
    }
   ],
   "source": [
    "start_time = time.process_time()\n",
    "clusterstack = np.zeros(HPCs.shape)\n",
    "\n",
    "mbk_means = cluster.MiniBatchKMeans(n_clusters=ClusterNum).fit(HPCs.reshape((-1, HPCs.shape[2])))\n",
    "clusterlabel = mbk_means.labels_.reshape((GT.shape))\n",
    "\n",
    "for i in range(ClusterNum):\n",
    "    clusterstack[clusterlabel==i]=np.mean(HPCs[clusterlabel==i], axis=0)\n",
    "    \n",
    "timeused = (time.process_time() - start_time)\n",
    "print('Shape of Clusters:', clusterstack.shape, 'Clustering Time: ', timeused, 's.  # of Clusters:', np.max(clusterlabel)+1)"
   ]
  },
  {
   "cell_type": "code",
   "execution_count": 4,
   "metadata": {},
   "outputs": [
    {
     "name": "stdout",
     "output_type": "stream",
     "text": [
      "Model: \"2DCNN_FCs\"\n",
      "_________________________________________________________________\n",
      "Layer (type)                 Output Shape              Param #   \n",
      "=================================================================\n",
      "IL (InputLayer)              [(None, 25, 25, 15)]      0         \n",
      "_________________________________________________________________\n",
      "C1 (Conv2D)                  (None, 21, 21, 64)        24064     \n",
      "_________________________________________________________________\n",
      "max_pooling2d (MaxPooling2D) (None, 10, 10, 64)        0         \n",
      "_________________________________________________________________\n",
      "C2 (Conv2D)                  (None, 8, 8, 64)          36928     \n",
      "_________________________________________________________________\n",
      "max_pooling2d_1 (MaxPooling2 (None, 4, 4, 64)          0         \n",
      "_________________________________________________________________\n",
      "FL (Flatten)                 (None, 1024)              0         \n",
      "_________________________________________________________________\n",
      "D1 (Dense)                   (None, 128)               131200    \n",
      "_________________________________________________________________\n",
      "dropout1 (Dropout)           (None, 128)               0         \n",
      "_________________________________________________________________\n",
      "D2 (Dense)                   (None, 64)                8256      \n",
      "_________________________________________________________________\n",
      "dropout2 (Dropout)           (None, 64)                0         \n",
      "_________________________________________________________________\n",
      "OL (Dense)                   (None, 16)                1040      \n",
      "=================================================================\n",
      "Total params: 201,488\n",
      "Trainable params: 201,488\n",
      "Non-trainable params: 0\n",
      "_________________________________________________________________\n",
      "FLOPs: 26,196,864\n"
     ]
    }
   ],
   "source": [
    "X, y = createImageCubes(clusterstack, GT, windowSize=patch)\n",
    "Xtrain, Xtest, ytrain, ytest = train_test_split(X, y, test_size=test_ratio, random_state=345,stratify=y)\n",
    "ytrain = keras.utils.to_categorical(ytrain)\n",
    "\n",
    "## input layer\n",
    "IL = keras.Input(shape=(patch, patch, PCsNum), name='IL')\n",
    "C1 = keras.layers.Conv2D(filters=64, kernel_size=(5,5), activation='relu', name='C1')(IL)\n",
    "P1 = keras.layers.MaxPool2D()(C1)\n",
    "C2 = keras.layers.Conv2D(filters=64, kernel_size=(3,3), activation='relu', name='C2')(P1) \n",
    "P2 = keras.layers.MaxPool2D()(C2)\n",
    "## flatten\n",
    "FL = keras.layers.Flatten(name='FL')(P2)        \n",
    "## fully connected layers\n",
    "D1 = keras.layers.Dense(units=128, activation='relu', name='D1')(FL)\n",
    "D1 = keras.layers.Dropout(0.4, name='dropout1')(D1)\n",
    "D2 = keras.layers.Dense(units=64, activation='relu', name='D2')(D1)\n",
    "D2 = keras.layers.Dropout(0.4, name='dropout2')(D2)\n",
    "OL = keras.layers.Dense(units=ytrain.shape[1], activation='softmax', name='OL')(D2)\n",
    "        \n",
    "model = keras.models.Model(inputs=IL, outputs=OL, name='2DCNN_FCs')\n",
    "        \n",
    "# compiling the model\n",
    "adam = keras.optimizers.Adam(lr=0.001, decay=1e-06)\n",
    "model.compile(loss='categorical_crossentropy', optimizer=adam, metrics=['accuracy'])\n",
    "\n",
    "model.summary()\n",
    "print('FLOPs:', format(count_FLOPs(model), ','))"
   ]
  },
  {
   "cell_type": "code",
   "execution_count": 5,
   "metadata": {},
   "outputs": [
    {
     "name": "stdout",
     "output_type": "stream",
     "text": [
      "ClusterCNN: 0.9841734417344173 0.9819535802429964  Training Time: 25.703125\n"
     ]
    }
   ],
   "source": [
    "start_time = time.process_time()\n",
    "# training\n",
    "model.fit(x=Xtrain, y=ytrain, batch_size=256, epochs=100, verbose=0)\n",
    "training_time = time.process_time()-start_time\n",
    "\n",
    "# predict\n",
    "y_pred = np.argmax(model.predict(Xtest), axis=1)\n",
    "oa = metrics.accuracy_score(ytest, y_pred)\n",
    "kappa = metrics.cohen_kappa_score(ytest, y_pred)\n",
    "\n",
    "print('ClusterCNN:', oa, kappa, ' Training Time:', training_time)"
   ]
  },
  {
   "cell_type": "code",
   "execution_count": 1,
   "metadata": {},
   "outputs": [],
   "source": [
    "# new lines on 10.23"
   ]
  },
  {
   "cell_type": "code",
   "execution_count": null,
   "metadata": {},
   "outputs": [],
   "source": []
  }
 ],
 "metadata": {
  "kernelspec": {
   "display_name": "Python 3",
   "language": "python",
   "name": "python3"
  },
  "language_info": {
   "codemirror_mode": {
    "name": "ipython",
    "version": 3
   },
   "file_extension": ".py",
   "mimetype": "text/x-python",
   "name": "python",
   "nbconvert_exporter": "python",
   "pygments_lexer": "ipython3",
   "version": "3.7.7-final"
  },
  "toc-showcode": true
 },
 "nbformat": 4,
 "nbformat_minor": 4
}